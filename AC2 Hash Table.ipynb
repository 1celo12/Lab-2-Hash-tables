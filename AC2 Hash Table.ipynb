{
 "cells": [
  {
   "cell_type": "code",
   "execution_count": 1,
   "metadata": {},
   "outputs": [],
   "source": [
    "class Node:\n",
    "    def __init__(self, value):\n",
    "        self.value = value\n",
    "        self.next = None\n",
    "\n",
    "# no1 = Node('hello')\n",
    "# no1.next = Node('world')\n",
    "# "
   ]
  },
  {
   "cell_type": "code",
   "execution_count": 7,
   "metadata": {},
   "outputs": [],
   "source": [
    "class HashTable:\n",
    "    \n",
    "    def __init__(self, capacity):\n",
    "        self.capacity = capacity\n",
    "        self.size = 0 #num de item na tabela \n",
    "        self.table = [None] * capacity    \n",
    "\n",
    "    def SimpleHash(self,key):\n",
    "        #hash simples usando mid-square\n",
    "        for letter in key:\n",
    "            hashID += ord(letter)\n",
    "        return hashID % 10 \n",
    "        #hash keys == 0-9\n",
    "    def Insert(self,value):\n",
    "        index = self.SimpleHash(value)\n",
    "        if self.table[index] is None:\n",
    "            self.table[index] = Node(value)\n",
    "            self.size += 1\n",
    "        else:\n",
    "            current = self.table[index]\n",
    "            while current is not None:\n",
    "                current = current.next\n",
    "            current.next = Node(value)\n",
    "    \n",
    "    def Find(self, value):\n",
    "        index = self.SimpleHash(value)\n",
    "        current = self.table[index]\n",
    "\n",
    "        while current is not None:\n",
    "            if current.value == value:\n",
    "                return current.value\n",
    "            current = current.next\n",
    "        return None\n",
    "        \n",
    "    def Delete(self, key):\n",
    "        index = self.SimpleHash(key)\n",
    "        current = self.table[index]\n",
    "        prev = None\n",
    "        while current is not None:\n",
    "            if current.key == key:\n",
    "                if prev is None:\n",
    "                    self.table[index] = current.next\n",
    "                else:\n",
    "                    prev.next = current.next\n",
    "                return\n",
    "            prev = current\n",
    "            current = current.next"
   ]
  },
  {
   "cell_type": "markdown",
   "metadata": {},
   "source": [
    "Marcelo Vieira Silva\n"
   ]
  }
 ],
 "metadata": {
  "kernelspec": {
   "display_name": "base",
   "language": "python",
   "name": "python3"
  },
  "language_info": {
   "codemirror_mode": {
    "name": "ipython",
    "version": 3
   },
   "file_extension": ".py",
   "mimetype": "text/x-python",
   "name": "python",
   "nbconvert_exporter": "python",
   "pygments_lexer": "ipython3",
   "version": "3.11.4"
  },
  "orig_nbformat": 4
 },
 "nbformat": 4,
 "nbformat_minor": 2
}
